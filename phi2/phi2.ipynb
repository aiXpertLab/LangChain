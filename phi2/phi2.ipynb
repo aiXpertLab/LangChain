{
 "cells": [
  {
   "cell_type": "code",
   "execution_count": 2,
   "metadata": {},
   "outputs": [
    {
     "data": {
      "text/plain": [
       "True"
      ]
     },
     "execution_count": 2,
     "metadata": {},
     "output_type": "execute_result"
    }
   ],
   "source": [
    "import torch\n",
    "from transformers import AutoModelForCausalLM, AutoTokenizer\n",
    "from huggingface_hub import snapshot_download\n",
    "\n",
    "torch.cuda.is_available()   "
   ]
  },
  {
   "cell_type": "code",
   "execution_count": 3,
   "metadata": {},
   "outputs": [
    {
     "name": "stderr",
     "output_type": "stream",
     "text": [
      "Special tokens have been added in the vocabulary, make sure the associated word embeddings are fine-tuned or trained.\n"
     ]
    }
   ],
   "source": [
    "repo_id = 'amgadhasan/phi-2'\n",
    "# model_path = snapshot_download(repo_id=repo_id,repo_type=\"model\", local_dir=\"./phi-2\", local_dir_use_symlinks=False)\n",
    "model_path = \"E:/models/phi-2\"\n",
    "tokenizer = AutoTokenizer.from_pretrained(model_path, trust_remote_code=True)"
   ]
  },
  {
   "cell_type": "code",
   "execution_count": 4,
   "metadata": {},
   "outputs": [
    {
     "data": {
      "application/vnd.jupyter.widget-view+json": {
       "model_id": "4c1747b427574c57b6ef9888045cde95",
       "version_major": 2,
       "version_minor": 0
      },
      "text/plain": [
       "Loading checkpoint shards:   0%|          | 0/4 [00:00<?, ?it/s]"
      ]
     },
     "metadata": {},
     "output_type": "display_data"
    }
   ],
   "source": [
    "torch.set_default_dtype(torch.float16)\n",
    "model = AutoModelForCausalLM.from_pretrained(model_path, device_map=\"auto\", trust_remote_code=True)"
   ]
  },
  {
   "cell_type": "code",
   "execution_count": 5,
   "metadata": {},
   "outputs": [
    {
     "data": {
      "text/plain": [
       "device(type='cuda', index=0)"
      ]
     },
     "execution_count": 5,
     "metadata": {},
     "output_type": "execute_result"
    }
   ],
   "source": [
    "model.device\n"
   ]
  },
  {
   "cell_type": "code",
   "execution_count": 10,
   "metadata": {},
   "outputs": [],
   "source": [
    "import time\n",
    "def generate(prompt: str, generation_params: dict = {\"max_length\":200})-> str :\n",
    "    s = time.time()\n",
    "\n",
    "    inputs = tokenizer(prompt, return_tensors=\"pt\").to(\"cuda\")\n",
    "    outputs = model.generate(**inputs, **generation_params)\n",
    "    completion = tokenizer.batch_decode(outputs)[0]\n",
    "\n",
    "    elapsed = time.time() - s\n",
    "\n",
    "    num_input_tokens = inputs['input_ids'].shape[1]\n",
    "    num_total_tokens = outputs.shape[1]\n",
    "    num_output_tokens = float(num_total_tokens) - num_input_tokens\n",
    "    speed = num_output_tokens / elapsed\n",
    "\n",
    "    print(f\"Took {round(elapsed,1)} seconds to generate {int(num_output_tokens)} new tokens at speed {round(speed, 1)} tokens/seconds\")\n",
    "\n",
    "    return completion\n",
    "\n",
    "# prompt = \"Write a concise analogy between brain and neural networks\"\n",
    "prompt = \"France's capital city is\"\n"
   ]
  },
  {
   "cell_type": "code",
   "execution_count": 11,
   "metadata": {},
   "outputs": [
    {
     "name": "stdout",
     "output_type": "stream",
     "text": [
      "Took 0.3 seconds to generate 3 new tokens at speed 9.6 tokens/seconds\n",
      "France's capital city is Paris.\n",
      "\n"
     ]
    }
   ],
   "source": [
    "result = generate(prompt, generation_params={\"max_length\":8})\n",
    "print(result)\n"
   ]
  }
 ],
 "metadata": {
  "kernelspec": {
   "display_name": "Python 3",
   "language": "python",
   "name": "python3"
  },
  "language_info": {
   "codemirror_mode": {
    "name": "ipython",
    "version": 3
   },
   "file_extension": ".py",
   "mimetype": "text/x-python",
   "name": "python",
   "nbconvert_exporter": "python",
   "pygments_lexer": "ipython3",
   "version": "3.12.2"
  }
 },
 "nbformat": 4,
 "nbformat_minor": 2
}
